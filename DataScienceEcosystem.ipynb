{
  "metadata": {
    "kernelspec": {
      "name": "python",
      "display_name": "Python (Pyodide)",
      "language": "python"
    },
    "language_info": {
      "codemirror_mode": {
        "name": "python",
        "version": 3
      },
      "file_extension": ".py",
      "mimetype": "text/x-python",
      "name": "python",
      "nbconvert_exporter": "python",
      "pygments_lexer": "ipython3",
      "version": "3.8"
    }
  },
  "nbformat_minor": 4,
  "nbformat": 4,
  "cells": [
    {
      "cell_type": "markdown",
      "source": "# Data Science Tools and Ecosystem",
      "metadata": {}
    },
    {
      "cell_type": "markdown",
      "source": "This notebook displays data science components.",
      "metadata": {}
    },
    {
      "cell_type": "markdown",
      "source": "Some of the languages Data Scientists use are:\n1. Python\n2. R\n3. SQL\n4. Scala\n5. Java\n6. C++\n7. Julia\n",
      "metadata": {}
    },
    {
      "cell_type": "markdown",
      "source": "Some of the libraries Data Scientists use are:\n1. Pandas\n2. Matplotlib\n3. Seaborn\n4. Tensorflow\n5. NumPy",
      "metadata": {}
    },
    {
      "cell_type": "markdown",
      "source": "|Data Science Tools|\n|------------------|\n|Weka              |\n|Java-ML           |\n|Apache MLlib      |\n|Hadoop            |\n",
      "metadata": {}
    },
    {
      "cell_type": "markdown",
      "source": "### These are some examples of arithmetic in Python ",
      "metadata": {}
    },
    {
      "cell_type": "code",
      "source": "#This code is to add and multiply numbers \n(3*4)+5",
      "metadata": {
        "trusted": true
      },
      "outputs": [
        {
          "execution_count": 5,
          "output_type": "execute_result",
          "data": {
            "text/plain": "17"
          },
          "metadata": {}
        }
      ],
      "execution_count": 5
    },
    {
      "cell_type": "code",
      "source": "#This is to convert 200 minutes to hours\ntotal_minutes = 200\nhours = total_minutes // 60\nminutes = total_minutes % 60\ntime = \"{} : {}\" .format(hours, minutes)\nprint(time)",
      "metadata": {
        "trusted": true
      },
      "outputs": [
        {
          "name": "stdout",
          "text": "3 : 20\n",
          "output_type": "stream"
        }
      ],
      "execution_count": 7
    },
    {
      "cell_type": "markdown",
      "source": "**Objectives**\n- List data science libraries\n- List data science tools\n- create arithmetic example\n- create an H3 Heading",
      "metadata": {}
    },
    {
      "cell_type": "markdown",
      "source": "## Author\nKelsey Pierce",
      "metadata": {}
    },
    {
      "cell_type": "code",
      "source": "",
      "metadata": {
        "trusted": true
      },
      "outputs": [],
      "execution_count": null
    }
  ]
}